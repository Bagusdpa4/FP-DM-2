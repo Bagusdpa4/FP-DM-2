{
  "nbformat": 4,
  "nbformat_minor": 0,
  "metadata": {
    "colab": {
      "provenance": []
    },
    "kernelspec": {
      "name": "python3",
      "display_name": "Python 3"
    },
    "language_info": {
      "name": "python"
    }
  },
  "cells": [
    {
      "cell_type": "markdown",
      "source": [
        "# Read Dataset"
      ],
      "metadata": {
        "id": "0FbYoHr68j95"
      }
    },
    {
      "cell_type": "code",
      "source": [
        "import pandas as pd\n",
        "import numpy as np\n",
        "\n",
        "# Load data (file CSV)\n",
        "file_path = '/content/sample_data/Agustus_Balance.csv'  # Ganti dengan path file Anda\n",
        "data = pd.read_csv(file_path)\n",
        "data.head()"
      ],
      "metadata": {
        "id": "xo1fwcGg8pEf"
      },
      "execution_count": null,
      "outputs": []
    },
    {
      "cell_type": "markdown",
      "source": [
        "# Pemodelan SVM"
      ],
      "metadata": {
        "id": "QpCTph7982vY"
      }
    },
    {
      "cell_type": "code",
      "source": [
        "from sklearn.svm import SVC\n",
        "from sklearn.model_selection import train_test_split\n",
        "from sklearn.metrics import accuracy_score, classification_report, roc_auc_score, roc_curve, confusion_matrix\n",
        "import matplotlib.pyplot as plt\n",
        "\n",
        "# Pisahkan fitur (X) dan target (y)\n",
        "X = data.drop('Status', axis=1)  # Hapus kolom 'Status' dari fitur\n",
        "y = data['Status']\n",
        "\n",
        "# Bagi data menjadi training dan testing set\n",
        "X_train, X_test, y_train, y_test = train_test_split(X, y, test_size=0.3, random_state=42)\n",
        "\n",
        "# Inisialisasi dan latih model SVM\n",
        "svm_model = SVC(kernel='linear', probability=True)  # Pastikan probability=True untuk prediksi probabilitas\n",
        "svm_model.fit(X_train, y_train)\n",
        "\n",
        "# Prediksi pada data testing\n",
        "y_pred = svm_model.predict(X_test)\n",
        "\n",
        "# Evaluasi akurasi model\n",
        "print(\"\\nClassification Report:\")\n",
        "print(classification_report(y_test, y_pred))\n",
        "\n",
        "print(\"\\nConfusion Matrix:\")\n",
        "print(confusion_matrix(y_test, y_pred))"
      ],
      "metadata": {
        "id": "YA0a70ZY829a"
      },
      "execution_count": null,
      "outputs": []
    },
    {
      "cell_type": "markdown",
      "source": [
        "# Deploy Streamlit"
      ],
      "metadata": {
        "id": "ZIhniw_N7_pD"
      }
    },
    {
      "cell_type": "markdown",
      "source": [
        "Menyimpan Model dalam Bentuk Pickle"
      ],
      "metadata": {
        "id": "FxY-4BsP8GG_"
      }
    },
    {
      "cell_type": "code",
      "execution_count": null,
      "metadata": {
        "id": "WrKT3ewZ73BS"
      },
      "outputs": [],
      "source": [
        "# Mem-pickle-kan model\n",
        "\n",
        "import pickle\n",
        "\n",
        "# Nama pickle - classifier.pkl\n",
        "pickle_out = open(\"classifier.pkl\", \"wb\")\n",
        "\n",
        "# Nama model - classifier\n",
        "pickle.dump(svm_model,  pickle_out)\n",
        "pickle_out.close()"
      ]
    },
    {
      "cell_type": "markdown",
      "source": [
        "Mendeploy Model dengan Mempergunakan Streamlit"
      ],
      "metadata": {
        "id": "ln4LMMqL8KCa"
      }
    },
    {
      "cell_type": "code",
      "source": [
        "%%writefile app.py\n",
        "import streamlit as st\n",
        "import pandas as pd\n",
        "import pickle\n",
        "\n",
        "# Load the trained model\n",
        "pickle_in = open('classifier.pkl', 'rb')\n",
        "classifier = pickle.load(pickle_in)\n",
        "\n",
        "# Function to preprocess input data\n",
        "def preprocess_input(jk, umur, berat, tinggi, lila):\n",
        "    \"\"\"\n",
        "    Preprocess user input to match the dataset structure with one-hot encoded gender (JK_L and JK_P).\n",
        "    \"\"\"\n",
        "    data = pd.DataFrame({\n",
        "        'Berat': [berat],\n",
        "        'Tinggi': [tinggi],\n",
        "        'LiLA': [lila],\n",
        "        'Umur': [umur],  # Age in months\n",
        "        'JK_L': [1 if jk == \"L\" else 0],  # JK_L is 1 if gender is Laki-Laki\n",
        "        'JK_P': [1 if jk == \"P\" else 0],  # JK_P is 1 if gender is Perempuan\n",
        "    })\n",
        "    return data\n",
        "\n",
        "# Streamlit app\n",
        "st.set_page_config(\n",
        "    page_title=\"Prediksi Status Gizi Balita\",\n",
        "    page_icon=\"👶\",\n",
        "    layout=\"centered\",\n",
        "    initial_sidebar_state=\"expanded\",\n",
        ")\n",
        "\n",
        "# Custom CSS for UI Styling\n",
        "st.markdown(\"\"\"\n",
        "    <style>\n",
        "    body {\n",
        "        background-color: #f9f9f9;\n",
        "        font-family: \"Arial\", sans-serif;\n",
        "    }\n",
        "    .title {\n",
        "        font-size: 36px;\n",
        "        font-weight: bold;\n",
        "        color: #4caf50;\n",
        "        text-align: center;\n",
        "        margin-top: -20px;\n",
        "        margin-bottom: 20px;\n",
        "    }\n",
        "    .sidebar .sidebar-content {\n",
        "        background: #fffbe6;\n",
        "    }\n",
        "    .main-button {\n",
        "        background-color: #4caf50;\n",
        "        color: white;\n",
        "        font-size: 16px;\n",
        "        padding: 10px 15px;\n",
        "        border-radius: 8px;\n",
        "        border: none;\n",
        "    }\n",
        "    .main-button:hover {\n",
        "        background-color: #45a049;\n",
        "    }\n",
        "    </style>\n",
        "\"\"\", unsafe_allow_html=True)\n",
        "\n",
        "# Page Title\n",
        "st.markdown('<div class=\"title\">Prediksi Status Gizi Balita</div>', unsafe_allow_html=True)\n",
        "\n",
        "# App Subtitle\n",
        "st.subheader(\"Streamlit Gizi Balita Classifier ML SVM\")\n",
        "\n",
        "# Input fields with better formatting\n",
        "st.markdown(\"### Masukkan Data Balita:\")\n",
        "berat = st.number_input(\"Berat Badan (kg):\", min_value=0.0, value=0.0, step=0.1)\n",
        "tinggi = st.number_input(\"Tinggi Badan (cm):\", min_value=0.0, value=0.0, step=0.1)\n",
        "lila = st.number_input(\"Lingkar Lengan Atas (cm):\", min_value=0.0, value=0.0, step=0.1)\n",
        "umur = st.number_input(\"Umur (0-60 bulan):\", min_value=0.0, value=0.0, step=0.1)  # Numeric input for age in months\n",
        "jk = st.selectbox(\"Jenis Kelamin:\", [\"L\", \"P\"], help=\"Pilih jenis kelamin balita (L = Laki-Laki, P = Perempuan)\")\n",
        "\n",
        "# Prediction button with custom style\n",
        "if st.button(\"Prediksi\", help=\"Klik tombol ini untuk melihat hasil prediksi status gizi.\"):\n",
        "    try:\n",
        "        # Preprocess input\n",
        "        input_data = preprocess_input(jk, umur, berat, tinggi, lila)\n",
        "\n",
        "        # Ensure all required features are present and numeric\n",
        "        if input_data.isnull().values.any() or (input_data < 0).any(axis=None):\n",
        "            raise ValueError(\"Pastikan semua input diisi dengan nilai valid (positif).\")\n",
        "\n",
        "        # Predict the class (status gizi)\n",
        "        prediction = classifier.predict(input_data)[0]\n",
        "\n",
        "        # Convert prediction to human-readable label\n",
        "        label_mapping = {\n",
        "            0: '🥄 Gizi Kurang',\n",
        "            1: '🥦 Normal',\n",
        "            2: '🍔 Beresiko Gizi Lebih',\n",
        "            3: '🍩 Gizi Lebih',\n",
        "            4: '🎂 Obesitas'\n",
        "        }\n",
        "\n",
        "        # Display result\n",
        "        st.success(f\"Prediksi Status Gizi: {label_mapping[prediction]}\")\n",
        "        st.balloons()\n",
        "\n",
        "    except ValueError as e:\n",
        "        st.error(f\"Error: {e}. Periksa input Anda.\")\n",
        "    except Exception as e:\n",
        "        st.error(f\"Terjadi kesalahan tak terduga: {e}\")"
      ],
      "metadata": {
        "id": "Y08ZKVGW8KmI"
      },
      "execution_count": null,
      "outputs": []
    },
    {
      "cell_type": "code",
      "source": [
        "!pip install streamlit -q"
      ],
      "metadata": {
        "id": "PySZ_h5u8Qfc"
      },
      "execution_count": null,
      "outputs": []
    },
    {
      "cell_type": "code",
      "source": [
        "!wget -q -O - ipv4.icanhazip.com"
      ],
      "metadata": {
        "id": "lsTRUdaE8TiW"
      },
      "execution_count": null,
      "outputs": []
    },
    {
      "cell_type": "code",
      "source": [
        "!streamlit run app.py & npx localtunnel --port 8501"
      ],
      "metadata": {
        "id": "ib7D4sDe8VJj"
      },
      "execution_count": null,
      "outputs": []
    }
  ]
}