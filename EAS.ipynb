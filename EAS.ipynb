{
  "cells": [
    {
      "cell_type": "markdown",
      "metadata": {
        "id": "8fXD5pKWxuhw"
      },
      "source": [
        "# 1. Read Dataset"
      ]
    },
    {
      "cell_type": "code",
      "execution_count": null,
      "metadata": {
        "id": "rDdTuihGx03C"
      },
      "outputs": [],
      "source": [
        "import pandas as pd\n",
        "import numpy as np\n",
        "\n",
        "# Load data (file CSV)\n",
        "file_path = '/content/sample_data/AGUSTUS.csv'  # Ganti dengan path file Anda\n",
        "# file_path = '/content/sample_data/Agustus_Balance.csv'  # Ganti dengan path file Anda\n",
        "data = pd.read_csv(file_path)"
      ]
    },
    {
      "cell_type": "code",
      "execution_count": null,
      "metadata": {
        "colab": {
          "base_uri": "https://localhost:8080/",
          "height": 206
        },
        "id": "jFYy1AoAJ6bj",
        "outputId": "e686cbf3-40f7-4842-dde6-be1c5883d888"
      },
      "outputs": [
        {
          "data": {
            "application/vnd.google.colaboratory.intrinsic+json": {
              "summary": "{\n  \"name\": \"data\",\n  \"rows\": 733,\n  \"fields\": [\n    {\n      \"column\": \"Berat\",\n      \"properties\": {\n        \"dtype\": \"number\",\n        \"std\": 5.370674061968453,\n        \"min\": 2.2,\n        \"max\": 32.4,\n        \"num_unique_values\": 213,\n        \"samples\": [\n          26.2,\n          6.9,\n          20.2\n        ],\n        \"semantic_type\": \"\",\n        \"description\": \"\"\n      }\n    },\n    {\n      \"column\": \"Tinggi\",\n      \"properties\": {\n        \"dtype\": \"number\",\n        \"std\": 16.37202914055106,\n        \"min\": 46.0,\n        \"max\": 118.2,\n        \"num_unique_values\": 311,\n        \"samples\": [\n          47.0,\n          105.8,\n          106.1\n        ],\n        \"semantic_type\": \"\",\n        \"description\": \"\"\n      }\n    },\n    {\n      \"column\": \"LiLA\",\n      \"properties\": {\n        \"dtype\": \"number\",\n        \"std\": 1.8057312210765417,\n        \"min\": 0.0,\n        \"max\": 22.0,\n        \"num_unique_values\": 17,\n        \"samples\": [\n          19.0,\n          17.0,\n          20.0\n        ],\n        \"semantic_type\": \"\",\n        \"description\": \"\"\n      }\n    },\n    {\n      \"column\": \"Umur\",\n      \"properties\": {\n        \"dtype\": \"number\",\n        \"std\": 19.528229048574605,\n        \"min\": 0.0,\n        \"max\": 60.47,\n        \"num_unique_values\": 460,\n        \"samples\": [\n          47.17,\n          43.1,\n          19.6\n        ],\n        \"semantic_type\": \"\",\n        \"description\": \"\"\n      }\n    },\n    {\n      \"column\": \"JK_L\",\n      \"properties\": {\n        \"dtype\": \"number\",\n        \"std\": 0,\n        \"min\": 0,\n        \"max\": 1,\n        \"num_unique_values\": 2,\n        \"samples\": [\n          0,\n          1\n        ],\n        \"semantic_type\": \"\",\n        \"description\": \"\"\n      }\n    },\n    {\n      \"column\": \"JK_P\",\n      \"properties\": {\n        \"dtype\": \"number\",\n        \"std\": 0,\n        \"min\": 0,\n        \"max\": 1,\n        \"num_unique_values\": 2,\n        \"samples\": [\n          1,\n          0\n        ],\n        \"semantic_type\": \"\",\n        \"description\": \"\"\n      }\n    },\n    {\n      \"column\": \"Status\",\n      \"properties\": {\n        \"dtype\": \"number\",\n        \"std\": 1,\n        \"min\": 0,\n        \"max\": 4,\n        \"num_unique_values\": 5,\n        \"samples\": [\n          3,\n          0\n        ],\n        \"semantic_type\": \"\",\n        \"description\": \"\"\n      }\n    }\n  ]\n}",
              "type": "dataframe",
              "variable_name": "data"
            },
            "text/html": [
              "\n",
              "  <div id=\"df-1464d3cb-752c-42cb-b7d4-8d99a7efcf6e\" class=\"colab-df-container\">\n",
              "    <div>\n",
              "<style scoped>\n",
              "    .dataframe tbody tr th:only-of-type {\n",
              "        vertical-align: middle;\n",
              "    }\n",
              "\n",
              "    .dataframe tbody tr th {\n",
              "        vertical-align: top;\n",
              "    }\n",
              "\n",
              "    .dataframe thead th {\n",
              "        text-align: right;\n",
              "    }\n",
              "</style>\n",
              "<table border=\"1\" class=\"dataframe\">\n",
              "  <thead>\n",
              "    <tr style=\"text-align: right;\">\n",
              "      <th></th>\n",
              "      <th>Berat</th>\n",
              "      <th>Tinggi</th>\n",
              "      <th>LiLA</th>\n",
              "      <th>Umur</th>\n",
              "      <th>JK_L</th>\n",
              "      <th>JK_P</th>\n",
              "      <th>Status</th>\n",
              "    </tr>\n",
              "  </thead>\n",
              "  <tbody>\n",
              "    <tr>\n",
              "      <th>0</th>\n",
              "      <td>31.5</td>\n",
              "      <td>116.7</td>\n",
              "      <td>19.0</td>\n",
              "      <td>59.8</td>\n",
              "      <td>1</td>\n",
              "      <td>0</td>\n",
              "      <td>4</td>\n",
              "    </tr>\n",
              "    <tr>\n",
              "      <th>1</th>\n",
              "      <td>24.9</td>\n",
              "      <td>106.5</td>\n",
              "      <td>17.0</td>\n",
              "      <td>59.2</td>\n",
              "      <td>0</td>\n",
              "      <td>1</td>\n",
              "      <td>4</td>\n",
              "    </tr>\n",
              "    <tr>\n",
              "      <th>2</th>\n",
              "      <td>30.4</td>\n",
              "      <td>112.3</td>\n",
              "      <td>21.0</td>\n",
              "      <td>58.7</td>\n",
              "      <td>1</td>\n",
              "      <td>0</td>\n",
              "      <td>4</td>\n",
              "    </tr>\n",
              "    <tr>\n",
              "      <th>3</th>\n",
              "      <td>23.7</td>\n",
              "      <td>102.8</td>\n",
              "      <td>16.0</td>\n",
              "      <td>58.3</td>\n",
              "      <td>0</td>\n",
              "      <td>1</td>\n",
              "      <td>4</td>\n",
              "    </tr>\n",
              "    <tr>\n",
              "      <th>4</th>\n",
              "      <td>29.8</td>\n",
              "      <td>114.6</td>\n",
              "      <td>15.0</td>\n",
              "      <td>57.2</td>\n",
              "      <td>1</td>\n",
              "      <td>0</td>\n",
              "      <td>4</td>\n",
              "    </tr>\n",
              "  </tbody>\n",
              "</table>\n",
              "</div>\n",
              "    <div class=\"colab-df-buttons\">\n",
              "\n",
              "  <div class=\"colab-df-container\">\n",
              "    <button class=\"colab-df-convert\" onclick=\"convertToInteractive('df-1464d3cb-752c-42cb-b7d4-8d99a7efcf6e')\"\n",
              "            title=\"Convert this dataframe to an interactive table.\"\n",
              "            style=\"display:none;\">\n",
              "\n",
              "  <svg xmlns=\"http://www.w3.org/2000/svg\" height=\"24px\" viewBox=\"0 -960 960 960\">\n",
              "    <path d=\"M120-120v-720h720v720H120Zm60-500h600v-160H180v160Zm220 220h160v-160H400v160Zm0 220h160v-160H400v160ZM180-400h160v-160H180v160Zm440 0h160v-160H620v160ZM180-180h160v-160H180v160Zm440 0h160v-160H620v160Z\"/>\n",
              "  </svg>\n",
              "    </button>\n",
              "\n",
              "  <style>\n",
              "    .colab-df-container {\n",
              "      display:flex;\n",
              "      gap: 12px;\n",
              "    }\n",
              "\n",
              "    .colab-df-convert {\n",
              "      background-color: #E8F0FE;\n",
              "      border: none;\n",
              "      border-radius: 50%;\n",
              "      cursor: pointer;\n",
              "      display: none;\n",
              "      fill: #1967D2;\n",
              "      height: 32px;\n",
              "      padding: 0 0 0 0;\n",
              "      width: 32px;\n",
              "    }\n",
              "\n",
              "    .colab-df-convert:hover {\n",
              "      background-color: #E2EBFA;\n",
              "      box-shadow: 0px 1px 2px rgba(60, 64, 67, 0.3), 0px 1px 3px 1px rgba(60, 64, 67, 0.15);\n",
              "      fill: #174EA6;\n",
              "    }\n",
              "\n",
              "    .colab-df-buttons div {\n",
              "      margin-bottom: 4px;\n",
              "    }\n",
              "\n",
              "    [theme=dark] .colab-df-convert {\n",
              "      background-color: #3B4455;\n",
              "      fill: #D2E3FC;\n",
              "    }\n",
              "\n",
              "    [theme=dark] .colab-df-convert:hover {\n",
              "      background-color: #434B5C;\n",
              "      box-shadow: 0px 1px 3px 1px rgba(0, 0, 0, 0.15);\n",
              "      filter: drop-shadow(0px 1px 2px rgba(0, 0, 0, 0.3));\n",
              "      fill: #FFFFFF;\n",
              "    }\n",
              "  </style>\n",
              "\n",
              "    <script>\n",
              "      const buttonEl =\n",
              "        document.querySelector('#df-1464d3cb-752c-42cb-b7d4-8d99a7efcf6e button.colab-df-convert');\n",
              "      buttonEl.style.display =\n",
              "        google.colab.kernel.accessAllowed ? 'block' : 'none';\n",
              "\n",
              "      async function convertToInteractive(key) {\n",
              "        const element = document.querySelector('#df-1464d3cb-752c-42cb-b7d4-8d99a7efcf6e');\n",
              "        const dataTable =\n",
              "          await google.colab.kernel.invokeFunction('convertToInteractive',\n",
              "                                                    [key], {});\n",
              "        if (!dataTable) return;\n",
              "\n",
              "        const docLinkHtml = 'Like what you see? Visit the ' +\n",
              "          '<a target=\"_blank\" href=https://colab.research.google.com/notebooks/data_table.ipynb>data table notebook</a>'\n",
              "          + ' to learn more about interactive tables.';\n",
              "        element.innerHTML = '';\n",
              "        dataTable['output_type'] = 'display_data';\n",
              "        await google.colab.output.renderOutput(dataTable, element);\n",
              "        const docLink = document.createElement('div');\n",
              "        docLink.innerHTML = docLinkHtml;\n",
              "        element.appendChild(docLink);\n",
              "      }\n",
              "    </script>\n",
              "  </div>\n",
              "\n",
              "\n",
              "<div id=\"df-dfaa04b8-af93-488b-9192-0b7740952e76\">\n",
              "  <button class=\"colab-df-quickchart\" onclick=\"quickchart('df-dfaa04b8-af93-488b-9192-0b7740952e76')\"\n",
              "            title=\"Suggest charts\"\n",
              "            style=\"display:none;\">\n",
              "\n",
              "<svg xmlns=\"http://www.w3.org/2000/svg\" height=\"24px\"viewBox=\"0 0 24 24\"\n",
              "     width=\"24px\">\n",
              "    <g>\n",
              "        <path d=\"M19 3H5c-1.1 0-2 .9-2 2v14c0 1.1.9 2 2 2h14c1.1 0 2-.9 2-2V5c0-1.1-.9-2-2-2zM9 17H7v-7h2v7zm4 0h-2V7h2v10zm4 0h-2v-4h2v4z\"/>\n",
              "    </g>\n",
              "</svg>\n",
              "  </button>\n",
              "\n",
              "<style>\n",
              "  .colab-df-quickchart {\n",
              "      --bg-color: #E8F0FE;\n",
              "      --fill-color: #1967D2;\n",
              "      --hover-bg-color: #E2EBFA;\n",
              "      --hover-fill-color: #174EA6;\n",
              "      --disabled-fill-color: #AAA;\n",
              "      --disabled-bg-color: #DDD;\n",
              "  }\n",
              "\n",
              "  [theme=dark] .colab-df-quickchart {\n",
              "      --bg-color: #3B4455;\n",
              "      --fill-color: #D2E3FC;\n",
              "      --hover-bg-color: #434B5C;\n",
              "      --hover-fill-color: #FFFFFF;\n",
              "      --disabled-bg-color: #3B4455;\n",
              "      --disabled-fill-color: #666;\n",
              "  }\n",
              "\n",
              "  .colab-df-quickchart {\n",
              "    background-color: var(--bg-color);\n",
              "    border: none;\n",
              "    border-radius: 50%;\n",
              "    cursor: pointer;\n",
              "    display: none;\n",
              "    fill: var(--fill-color);\n",
              "    height: 32px;\n",
              "    padding: 0;\n",
              "    width: 32px;\n",
              "  }\n",
              "\n",
              "  .colab-df-quickchart:hover {\n",
              "    background-color: var(--hover-bg-color);\n",
              "    box-shadow: 0 1px 2px rgba(60, 64, 67, 0.3), 0 1px 3px 1px rgba(60, 64, 67, 0.15);\n",
              "    fill: var(--button-hover-fill-color);\n",
              "  }\n",
              "\n",
              "  .colab-df-quickchart-complete:disabled,\n",
              "  .colab-df-quickchart-complete:disabled:hover {\n",
              "    background-color: var(--disabled-bg-color);\n",
              "    fill: var(--disabled-fill-color);\n",
              "    box-shadow: none;\n",
              "  }\n",
              "\n",
              "  .colab-df-spinner {\n",
              "    border: 2px solid var(--fill-color);\n",
              "    border-color: transparent;\n",
              "    border-bottom-color: var(--fill-color);\n",
              "    animation:\n",
              "      spin 1s steps(1) infinite;\n",
              "  }\n",
              "\n",
              "  @keyframes spin {\n",
              "    0% {\n",
              "      border-color: transparent;\n",
              "      border-bottom-color: var(--fill-color);\n",
              "      border-left-color: var(--fill-color);\n",
              "    }\n",
              "    20% {\n",
              "      border-color: transparent;\n",
              "      border-left-color: var(--fill-color);\n",
              "      border-top-color: var(--fill-color);\n",
              "    }\n",
              "    30% {\n",
              "      border-color: transparent;\n",
              "      border-left-color: var(--fill-color);\n",
              "      border-top-color: var(--fill-color);\n",
              "      border-right-color: var(--fill-color);\n",
              "    }\n",
              "    40% {\n",
              "      border-color: transparent;\n",
              "      border-right-color: var(--fill-color);\n",
              "      border-top-color: var(--fill-color);\n",
              "    }\n",
              "    60% {\n",
              "      border-color: transparent;\n",
              "      border-right-color: var(--fill-color);\n",
              "    }\n",
              "    80% {\n",
              "      border-color: transparent;\n",
              "      border-right-color: var(--fill-color);\n",
              "      border-bottom-color: var(--fill-color);\n",
              "    }\n",
              "    90% {\n",
              "      border-color: transparent;\n",
              "      border-bottom-color: var(--fill-color);\n",
              "    }\n",
              "  }\n",
              "</style>\n",
              "\n",
              "  <script>\n",
              "    async function quickchart(key) {\n",
              "      const quickchartButtonEl =\n",
              "        document.querySelector('#' + key + ' button');\n",
              "      quickchartButtonEl.disabled = true;  // To prevent multiple clicks.\n",
              "      quickchartButtonEl.classList.add('colab-df-spinner');\n",
              "      try {\n",
              "        const charts = await google.colab.kernel.invokeFunction(\n",
              "            'suggestCharts', [key], {});\n",
              "      } catch (error) {\n",
              "        console.error('Error during call to suggestCharts:', error);\n",
              "      }\n",
              "      quickchartButtonEl.classList.remove('colab-df-spinner');\n",
              "      quickchartButtonEl.classList.add('colab-df-quickchart-complete');\n",
              "    }\n",
              "    (() => {\n",
              "      let quickchartButtonEl =\n",
              "        document.querySelector('#df-dfaa04b8-af93-488b-9192-0b7740952e76 button');\n",
              "      quickchartButtonEl.style.display =\n",
              "        google.colab.kernel.accessAllowed ? 'block' : 'none';\n",
              "    })();\n",
              "  </script>\n",
              "</div>\n",
              "\n",
              "    </div>\n",
              "  </div>\n"
            ],
            "text/plain": [
              "   Berat  Tinggi  LiLA  Umur  JK_L  JK_P  Status\n",
              "0   31.5   116.7  19.0  59.8     1     0       4\n",
              "1   24.9   106.5  17.0  59.2     0     1       4\n",
              "2   30.4   112.3  21.0  58.7     1     0       4\n",
              "3   23.7   102.8  16.0  58.3     0     1       4\n",
              "4   29.8   114.6  15.0  57.2     1     0       4"
            ]
          },
          "execution_count": 16,
          "metadata": {},
          "output_type": "execute_result"
        }
      ],
      "source": [
        "data.head()"
      ]
    },
    {
      "cell_type": "code",
      "execution_count": null,
      "metadata": {
        "colab": {
          "base_uri": "https://localhost:8080/",
          "height": 300
        },
        "id": "L1DhbxjYHqgl",
        "outputId": "097b4eca-59a5-4a7d-c2b1-3fb51bf57c79"
      },
      "outputs": [
        {
          "data": {
            "application/vnd.google.colaboratory.intrinsic+json": {
              "summary": "{\n  \"name\": \"data\",\n  \"rows\": 8,\n  \"fields\": [\n    {\n      \"column\": \"No\",\n      \"properties\": {\n        \"dtype\": \"number\",\n        \"std\": 1279.8531994442199,\n        \"min\": 1.0,\n        \"max\": 3552.0,\n        \"num_unique_values\": 6,\n        \"samples\": [\n          3552.0,\n          1776.5,\n          2664.25\n        ],\n        \"semantic_type\": \"\",\n        \"description\": \"\"\n      }\n    },\n    {\n      \"column\": \"BB Lahir\",\n      \"properties\": {\n        \"dtype\": \"number\",\n        \"std\": 1253.4196922018946,\n        \"min\": 0.0,\n        \"max\": 3552.0,\n        \"num_unique_values\": 6,\n        \"samples\": [\n          3552.0,\n          3.08598536036036,\n          35.0\n        ],\n        \"semantic_type\": \"\",\n        \"description\": \"\"\n      }\n    },\n    {\n      \"column\": \"TB Lahir\",\n      \"properties\": {\n        \"dtype\": \"number\",\n        \"std\": 1242.920403762955,\n        \"min\": 0.0,\n        \"max\": 3552.0,\n        \"num_unique_values\": 7,\n        \"samples\": [\n          3552.0,\n          48.898789414414416,\n          50.0\n        ],\n        \"semantic_type\": \"\",\n        \"description\": \"\"\n      }\n    },\n    {\n      \"column\": \"Berat\",\n      \"properties\": {\n        \"dtype\": \"number\",\n        \"std\": 1251.2965022361266,\n        \"min\": 2.2,\n        \"max\": 3552.0,\n        \"num_unique_values\": 8,\n        \"samples\": [\n          13.131534346846848,\n          13.0,\n          3552.0\n        ],\n        \"semantic_type\": \"\",\n        \"description\": \"\"\n      }\n    },\n    {\n      \"column\": \"Tinggi\",\n      \"properties\": {\n        \"dtype\": \"number\",\n        \"std\": 1229.0357358651474,\n        \"min\": 12.368406293278978,\n        \"max\": 3552.0,\n        \"num_unique_values\": 8,\n        \"samples\": [\n          89.55689752252252,\n          91.7,\n          3552.0\n        ],\n        \"semantic_type\": \"\",\n        \"description\": \"\"\n      }\n    },\n    {\n      \"column\": \"LiLA\",\n      \"properties\": {\n        \"dtype\": \"number\",\n        \"std\": 1247.1088101659357,\n        \"min\": 0.0,\n        \"max\": 3539.0,\n        \"num_unique_values\": 7,\n        \"samples\": [\n          3539.0,\n          13.594518225487425,\n          15.0\n        ],\n        \"semantic_type\": \"\",\n        \"description\": \"\"\n      }\n    },\n    {\n      \"column\": \"ZS BB/U\",\n      \"properties\": {\n        \"dtype\": \"number\",\n        \"std\": 1255.7548042636945,\n        \"min\": -3.33,\n        \"max\": 3552.0,\n        \"num_unique_values\": 8,\n        \"samples\": [\n          -0.2781334459459459,\n          -0.26,\n          3552.0\n        ],\n        \"semantic_type\": \"\",\n        \"description\": \"\"\n      }\n    },\n    {\n      \"column\": \"ZS TB/U\",\n      \"properties\": {\n        \"dtype\": \"number\",\n        \"std\": 1255.9087986997813,\n        \"min\": -4.0,\n        \"max\": 3552.0,\n        \"num_unique_values\": 8,\n        \"samples\": [\n          -0.7655123873873875,\n          -0.87,\n          3552.0\n        ],\n        \"semantic_type\": \"\",\n        \"description\": \"\"\n      }\n    },\n    {\n      \"column\": \"ZS BB/TB\",\n      \"properties\": {\n        \"dtype\": \"number\",\n        \"std\": 1255.5699362941918,\n        \"min\": -2.63,\n        \"max\": 3552.0,\n        \"num_unique_values\": 8,\n        \"samples\": [\n          0.1988935810810811,\n          0.18,\n          3552.0\n        ],\n        \"semantic_type\": \"\",\n        \"description\": \"\"\n      }\n    },\n    {\n      \"column\": \"Jml Vit A\",\n      \"properties\": {\n        \"dtype\": \"number\",\n        \"std\": 1178.444010428279,\n        \"min\": 0.0,\n        \"max\": 3334.0,\n        \"num_unique_values\": 3,\n        \"samples\": [\n          3334.0,\n          1.0,\n          0.0\n        ],\n        \"semantic_type\": \"\",\n        \"description\": \"\"\n      }\n    }\n  ]\n}",
              "type": "dataframe"
            },
            "text/html": [
              "\n",
              "  <div id=\"df-f0f2990f-6810-4f57-bf8b-010455f0f8a5\" class=\"colab-df-container\">\n",
              "    <div>\n",
              "<style scoped>\n",
              "    .dataframe tbody tr th:only-of-type {\n",
              "        vertical-align: middle;\n",
              "    }\n",
              "\n",
              "    .dataframe tbody tr th {\n",
              "        vertical-align: top;\n",
              "    }\n",
              "\n",
              "    .dataframe thead th {\n",
              "        text-align: right;\n",
              "    }\n",
              "</style>\n",
              "<table border=\"1\" class=\"dataframe\">\n",
              "  <thead>\n",
              "    <tr style=\"text-align: right;\">\n",
              "      <th></th>\n",
              "      <th>No</th>\n",
              "      <th>BB Lahir</th>\n",
              "      <th>TB Lahir</th>\n",
              "      <th>Berat</th>\n",
              "      <th>Tinggi</th>\n",
              "      <th>LiLA</th>\n",
              "      <th>ZS BB/U</th>\n",
              "      <th>ZS TB/U</th>\n",
              "      <th>ZS BB/TB</th>\n",
              "      <th>Jml Vit A</th>\n",
              "    </tr>\n",
              "  </thead>\n",
              "  <tbody>\n",
              "    <tr>\n",
              "      <th>count</th>\n",
              "      <td>3552.000000</td>\n",
              "      <td>3552.000000</td>\n",
              "      <td>3552.000000</td>\n",
              "      <td>3552.000000</td>\n",
              "      <td>3552.000000</td>\n",
              "      <td>3539.000000</td>\n",
              "      <td>3552.000000</td>\n",
              "      <td>3552.000000</td>\n",
              "      <td>3552.000000</td>\n",
              "      <td>3334.0</td>\n",
              "    </tr>\n",
              "    <tr>\n",
              "      <th>mean</th>\n",
              "      <td>1776.500000</td>\n",
              "      <td>3.085985</td>\n",
              "      <td>48.898789</td>\n",
              "      <td>13.131534</td>\n",
              "      <td>89.556898</td>\n",
              "      <td>13.594518</td>\n",
              "      <td>-0.278133</td>\n",
              "      <td>-0.765512</td>\n",
              "      <td>0.198894</td>\n",
              "      <td>1.0</td>\n",
              "    </tr>\n",
              "    <tr>\n",
              "      <th>std</th>\n",
              "      <td>1025.518405</td>\n",
              "      <td>1.515460</td>\n",
              "      <td>4.477051</td>\n",
              "      <td>3.535343</td>\n",
              "      <td>12.368406</td>\n",
              "      <td>3.294849</td>\n",
              "      <td>1.042200</td>\n",
              "      <td>0.867618</td>\n",
              "      <td>1.139499</td>\n",
              "      <td>0.0</td>\n",
              "    </tr>\n",
              "    <tr>\n",
              "      <th>min</th>\n",
              "      <td>1.000000</td>\n",
              "      <td>0.000000</td>\n",
              "      <td>0.000000</td>\n",
              "      <td>2.200000</td>\n",
              "      <td>46.000000</td>\n",
              "      <td>0.000000</td>\n",
              "      <td>-3.330000</td>\n",
              "      <td>-4.000000</td>\n",
              "      <td>-2.630000</td>\n",
              "      <td>1.0</td>\n",
              "    </tr>\n",
              "    <tr>\n",
              "      <th>25%</th>\n",
              "      <td>888.750000</td>\n",
              "      <td>3.000000</td>\n",
              "      <td>49.000000</td>\n",
              "      <td>10.400000</td>\n",
              "      <td>80.175000</td>\n",
              "      <td>14.000000</td>\n",
              "      <td>-1.030000</td>\n",
              "      <td>-1.430000</td>\n",
              "      <td>-0.620000</td>\n",
              "      <td>1.0</td>\n",
              "    </tr>\n",
              "    <tr>\n",
              "      <th>50%</th>\n",
              "      <td>1776.500000</td>\n",
              "      <td>3.000000</td>\n",
              "      <td>49.000000</td>\n",
              "      <td>13.000000</td>\n",
              "      <td>91.700000</td>\n",
              "      <td>14.000000</td>\n",
              "      <td>-0.260000</td>\n",
              "      <td>-0.870000</td>\n",
              "      <td>0.180000</td>\n",
              "      <td>1.0</td>\n",
              "    </tr>\n",
              "    <tr>\n",
              "      <th>75%</th>\n",
              "      <td>2664.250000</td>\n",
              "      <td>3.000000</td>\n",
              "      <td>50.000000</td>\n",
              "      <td>15.600000</td>\n",
              "      <td>99.700000</td>\n",
              "      <td>15.000000</td>\n",
              "      <td>0.440000</td>\n",
              "      <td>-0.230000</td>\n",
              "      <td>0.940000</td>\n",
              "      <td>1.0</td>\n",
              "    </tr>\n",
              "    <tr>\n",
              "      <th>max</th>\n",
              "      <td>3552.000000</td>\n",
              "      <td>35.000000</td>\n",
              "      <td>58.000000</td>\n",
              "      <td>32.400000</td>\n",
              "      <td>119.900000</td>\n",
              "      <td>22.000000</td>\n",
              "      <td>4.780000</td>\n",
              "      <td>4.750000</td>\n",
              "      <td>5.820000</td>\n",
              "      <td>1.0</td>\n",
              "    </tr>\n",
              "  </tbody>\n",
              "</table>\n",
              "</div>\n",
              "    <div class=\"colab-df-buttons\">\n",
              "\n",
              "  <div class=\"colab-df-container\">\n",
              "    <button class=\"colab-df-convert\" onclick=\"convertToInteractive('df-f0f2990f-6810-4f57-bf8b-010455f0f8a5')\"\n",
              "            title=\"Convert this dataframe to an interactive table.\"\n",
              "            style=\"display:none;\">\n",
              "\n",
              "  <svg xmlns=\"http://www.w3.org/2000/svg\" height=\"24px\" viewBox=\"0 -960 960 960\">\n",
              "    <path d=\"M120-120v-720h720v720H120Zm60-500h600v-160H180v160Zm220 220h160v-160H400v160Zm0 220h160v-160H400v160ZM180-400h160v-160H180v160Zm440 0h160v-160H620v160ZM180-180h160v-160H180v160Zm440 0h160v-160H620v160Z\"/>\n",
              "  </svg>\n",
              "    </button>\n",
              "\n",
              "  <style>\n",
              "    .colab-df-container {\n",
              "      display:flex;\n",
              "      gap: 12px;\n",
              "    }\n",
              "\n",
              "    .colab-df-convert {\n",
              "      background-color: #E8F0FE;\n",
              "      border: none;\n",
              "      border-radius: 50%;\n",
              "      cursor: pointer;\n",
              "      display: none;\n",
              "      fill: #1967D2;\n",
              "      height: 32px;\n",
              "      padding: 0 0 0 0;\n",
              "      width: 32px;\n",
              "    }\n",
              "\n",
              "    .colab-df-convert:hover {\n",
              "      background-color: #E2EBFA;\n",
              "      box-shadow: 0px 1px 2px rgba(60, 64, 67, 0.3), 0px 1px 3px 1px rgba(60, 64, 67, 0.15);\n",
              "      fill: #174EA6;\n",
              "    }\n",
              "\n",
              "    .colab-df-buttons div {\n",
              "      margin-bottom: 4px;\n",
              "    }\n",
              "\n",
              "    [theme=dark] .colab-df-convert {\n",
              "      background-color: #3B4455;\n",
              "      fill: #D2E3FC;\n",
              "    }\n",
              "\n",
              "    [theme=dark] .colab-df-convert:hover {\n",
              "      background-color: #434B5C;\n",
              "      box-shadow: 0px 1px 3px 1px rgba(0, 0, 0, 0.15);\n",
              "      filter: drop-shadow(0px 1px 2px rgba(0, 0, 0, 0.3));\n",
              "      fill: #FFFFFF;\n",
              "    }\n",
              "  </style>\n",
              "\n",
              "    <script>\n",
              "      const buttonEl =\n",
              "        document.querySelector('#df-f0f2990f-6810-4f57-bf8b-010455f0f8a5 button.colab-df-convert');\n",
              "      buttonEl.style.display =\n",
              "        google.colab.kernel.accessAllowed ? 'block' : 'none';\n",
              "\n",
              "      async function convertToInteractive(key) {\n",
              "        const element = document.querySelector('#df-f0f2990f-6810-4f57-bf8b-010455f0f8a5');\n",
              "        const dataTable =\n",
              "          await google.colab.kernel.invokeFunction('convertToInteractive',\n",
              "                                                    [key], {});\n",
              "        if (!dataTable) return;\n",
              "\n",
              "        const docLinkHtml = 'Like what you see? Visit the ' +\n",
              "          '<a target=\"_blank\" href=https://colab.research.google.com/notebooks/data_table.ipynb>data table notebook</a>'\n",
              "          + ' to learn more about interactive tables.';\n",
              "        element.innerHTML = '';\n",
              "        dataTable['output_type'] = 'display_data';\n",
              "        await google.colab.output.renderOutput(dataTable, element);\n",
              "        const docLink = document.createElement('div');\n",
              "        docLink.innerHTML = docLinkHtml;\n",
              "        element.appendChild(docLink);\n",
              "      }\n",
              "    </script>\n",
              "  </div>\n",
              "\n",
              "\n",
              "<div id=\"df-45bba222-eedb-4c7f-b116-9f52588623a1\">\n",
              "  <button class=\"colab-df-quickchart\" onclick=\"quickchart('df-45bba222-eedb-4c7f-b116-9f52588623a1')\"\n",
              "            title=\"Suggest charts\"\n",
              "            style=\"display:none;\">\n",
              "\n",
              "<svg xmlns=\"http://www.w3.org/2000/svg\" height=\"24px\"viewBox=\"0 0 24 24\"\n",
              "     width=\"24px\">\n",
              "    <g>\n",
              "        <path d=\"M19 3H5c-1.1 0-2 .9-2 2v14c0 1.1.9 2 2 2h14c1.1 0 2-.9 2-2V5c0-1.1-.9-2-2-2zM9 17H7v-7h2v7zm4 0h-2V7h2v10zm4 0h-2v-4h2v4z\"/>\n",
              "    </g>\n",
              "</svg>\n",
              "  </button>\n",
              "\n",
              "<style>\n",
              "  .colab-df-quickchart {\n",
              "      --bg-color: #E8F0FE;\n",
              "      --fill-color: #1967D2;\n",
              "      --hover-bg-color: #E2EBFA;\n",
              "      --hover-fill-color: #174EA6;\n",
              "      --disabled-fill-color: #AAA;\n",
              "      --disabled-bg-color: #DDD;\n",
              "  }\n",
              "\n",
              "  [theme=dark] .colab-df-quickchart {\n",
              "      --bg-color: #3B4455;\n",
              "      --fill-color: #D2E3FC;\n",
              "      --hover-bg-color: #434B5C;\n",
              "      --hover-fill-color: #FFFFFF;\n",
              "      --disabled-bg-color: #3B4455;\n",
              "      --disabled-fill-color: #666;\n",
              "  }\n",
              "\n",
              "  .colab-df-quickchart {\n",
              "    background-color: var(--bg-color);\n",
              "    border: none;\n",
              "    border-radius: 50%;\n",
              "    cursor: pointer;\n",
              "    display: none;\n",
              "    fill: var(--fill-color);\n",
              "    height: 32px;\n",
              "    padding: 0;\n",
              "    width: 32px;\n",
              "  }\n",
              "\n",
              "  .colab-df-quickchart:hover {\n",
              "    background-color: var(--hover-bg-color);\n",
              "    box-shadow: 0 1px 2px rgba(60, 64, 67, 0.3), 0 1px 3px 1px rgba(60, 64, 67, 0.15);\n",
              "    fill: var(--button-hover-fill-color);\n",
              "  }\n",
              "\n",
              "  .colab-df-quickchart-complete:disabled,\n",
              "  .colab-df-quickchart-complete:disabled:hover {\n",
              "    background-color: var(--disabled-bg-color);\n",
              "    fill: var(--disabled-fill-color);\n",
              "    box-shadow: none;\n",
              "  }\n",
              "\n",
              "  .colab-df-spinner {\n",
              "    border: 2px solid var(--fill-color);\n",
              "    border-color: transparent;\n",
              "    border-bottom-color: var(--fill-color);\n",
              "    animation:\n",
              "      spin 1s steps(1) infinite;\n",
              "  }\n",
              "\n",
              "  @keyframes spin {\n",
              "    0% {\n",
              "      border-color: transparent;\n",
              "      border-bottom-color: var(--fill-color);\n",
              "      border-left-color: var(--fill-color);\n",
              "    }\n",
              "    20% {\n",
              "      border-color: transparent;\n",
              "      border-left-color: var(--fill-color);\n",
              "      border-top-color: var(--fill-color);\n",
              "    }\n",
              "    30% {\n",
              "      border-color: transparent;\n",
              "      border-left-color: var(--fill-color);\n",
              "      border-top-color: var(--fill-color);\n",
              "      border-right-color: var(--fill-color);\n",
              "    }\n",
              "    40% {\n",
              "      border-color: transparent;\n",
              "      border-right-color: var(--fill-color);\n",
              "      border-top-color: var(--fill-color);\n",
              "    }\n",
              "    60% {\n",
              "      border-color: transparent;\n",
              "      border-right-color: var(--fill-color);\n",
              "    }\n",
              "    80% {\n",
              "      border-color: transparent;\n",
              "      border-right-color: var(--fill-color);\n",
              "      border-bottom-color: var(--fill-color);\n",
              "    }\n",
              "    90% {\n",
              "      border-color: transparent;\n",
              "      border-bottom-color: var(--fill-color);\n",
              "    }\n",
              "  }\n",
              "</style>\n",
              "\n",
              "  <script>\n",
              "    async function quickchart(key) {\n",
              "      const quickchartButtonEl =\n",
              "        document.querySelector('#' + key + ' button');\n",
              "      quickchartButtonEl.disabled = true;  // To prevent multiple clicks.\n",
              "      quickchartButtonEl.classList.add('colab-df-spinner');\n",
              "      try {\n",
              "        const charts = await google.colab.kernel.invokeFunction(\n",
              "            'suggestCharts', [key], {});\n",
              "      } catch (error) {\n",
              "        console.error('Error during call to suggestCharts:', error);\n",
              "      }\n",
              "      quickchartButtonEl.classList.remove('colab-df-spinner');\n",
              "      quickchartButtonEl.classList.add('colab-df-quickchart-complete');\n",
              "    }\n",
              "    (() => {\n",
              "      let quickchartButtonEl =\n",
              "        document.querySelector('#df-45bba222-eedb-4c7f-b116-9f52588623a1 button');\n",
              "      quickchartButtonEl.style.display =\n",
              "        google.colab.kernel.accessAllowed ? 'block' : 'none';\n",
              "    })();\n",
              "  </script>\n",
              "</div>\n",
              "\n",
              "    </div>\n",
              "  </div>\n"
            ],
            "text/plain": [
              "                No     BB Lahir     TB Lahir        Berat       Tinggi  \\\n",
              "count  3552.000000  3552.000000  3552.000000  3552.000000  3552.000000   \n",
              "mean   1776.500000     3.085985    48.898789    13.131534    89.556898   \n",
              "std    1025.518405     1.515460     4.477051     3.535343    12.368406   \n",
              "min       1.000000     0.000000     0.000000     2.200000    46.000000   \n",
              "25%     888.750000     3.000000    49.000000    10.400000    80.175000   \n",
              "50%    1776.500000     3.000000    49.000000    13.000000    91.700000   \n",
              "75%    2664.250000     3.000000    50.000000    15.600000    99.700000   \n",
              "max    3552.000000    35.000000    58.000000    32.400000   119.900000   \n",
              "\n",
              "              LiLA      ZS BB/U      ZS TB/U     ZS BB/TB  Jml Vit A  \n",
              "count  3539.000000  3552.000000  3552.000000  3552.000000     3334.0  \n",
              "mean     13.594518    -0.278133    -0.765512     0.198894        1.0  \n",
              "std       3.294849     1.042200     0.867618     1.139499        0.0  \n",
              "min       0.000000    -3.330000    -4.000000    -2.630000        1.0  \n",
              "25%      14.000000    -1.030000    -1.430000    -0.620000        1.0  \n",
              "50%      14.000000    -0.260000    -0.870000     0.180000        1.0  \n",
              "75%      15.000000     0.440000    -0.230000     0.940000        1.0  \n",
              "max      22.000000     4.780000     4.750000     5.820000        1.0  "
            ]
          },
          "execution_count": 7,
          "metadata": {},
          "output_type": "execute_result"
        }
      ],
      "source": [
        "data.describe()"
      ]
    },
    {
      "cell_type": "code",
      "execution_count": null,
      "metadata": {
        "colab": {
          "base_uri": "https://localhost:8080/"
        },
        "id": "JwulaB7SHxY1",
        "outputId": "d1eaa737-5865-44d9-843b-3b75978cc5bc"
      },
      "outputs": [
        {
          "name": "stdout",
          "output_type": "stream",
          "text": [
            "No                      int64\n",
            "NIK                    object\n",
            "Nama                   object\n",
            "JK                     object\n",
            "Tgl Lahir              object\n",
            "BB Lahir              float64\n",
            "TB Lahir              float64\n",
            "Nama Ortu              object\n",
            "Prov                   object\n",
            "Kab/Kota               object\n",
            "Kec                    object\n",
            "Pukesmas               object\n",
            "Desa/Kel               object\n",
            "Posyandu               object\n",
            "RT                     object\n",
            "RW                     object\n",
            "Alamat                 object\n",
            "Usia Saat Ukur         object\n",
            "Tanggal Pengukuran     object\n",
            "Berat                 float64\n",
            "Tinggi                float64\n",
            "Cara Ukur              object\n",
            "LiLA                  float64\n",
            "BB/U                   object\n",
            "ZS BB/U               float64\n",
            "TB/U                   object\n",
            "ZS TB/U               float64\n",
            "BB/TB                  object\n",
            "ZS BB/TB              float64\n",
            "Naik Berat Badan       object\n",
            "PMT Diterima (kg)      object\n",
            "Jml Vit A             float64\n",
            "KPSP                   object\n",
            "KIA                    object\n",
            "Detail                 object\n",
            "dtype: object\n",
            "(3552, 35)\n"
          ]
        }
      ],
      "source": [
        "print(data.dtypes)\n",
        "data = pd.DataFrame(data)\n",
        "print(data.shape)"
      ]
    },
    {
      "cell_type": "markdown",
      "metadata": {
        "id": "2I_P8xlzyBDa"
      },
      "source": [
        "# 2. Pemilihan Atribut"
      ]
    },
    {
      "cell_type": "code",
      "execution_count": null,
      "metadata": {
        "colab": {
          "base_uri": "https://localhost:8080/",
          "height": 486
        },
        "id": "3YerECTaoB8O",
        "outputId": "00295a14-1ae6-4dfc-bcc0-a2cbd14ebba1"
      },
      "outputs": [
        {
          "data": {
            "image/png": "[encoded data removed]",
            "text/plain": [
              "<Figure size 640x480 with 2 Axes>"
            ]
          },
          "metadata": {},
          "output_type": "display_data"
        }
      ],
      "source": [
        "import seaborn as sns\n",
        "import pandas as pd\n",
        "\n",
        "def titanic_corr(data):\n",
        "    numeric_data = data.select_dtypes(include=['number'])\n",
        "    correlation = numeric_data.corr()\n",
        "    sns.heatmap(correlation, annot=True, cbar=True, cmap='RdYlGn')\n",
        "\n",
        "titanic_corr(data)"
      ]
    },
    {
      "cell_type": "code",
      "execution_count": null,
      "metadata": {
        "id": "VCdSefsFx-6H"
      },
      "outputs": [],
      "source": [
        "# Pilih kolom yang relevan\n",
        "columns_to_keep = ['JK', 'Usia Saat Ukur', 'Berat', 'Tinggi', 'LiLA', 'BB/TB']\n",
        "data = data[columns_to_keep]"
      ]
    },
    {
      "cell_type": "markdown",
      "metadata": {
        "id": "qGDcj_GuyL2K"
      },
      "source": [
        "# 3. Missing Value & Isi dengan Mean (LiLA)"
      ]
    },
    {
      "cell_type": "code",
      "execution_count": null,
      "metadata": {
        "colab": {
          "base_uri": "https://localhost:8080/"
        },
        "id": "mfjQLcIyyVRu",
        "outputId": "0b1c386b-d854-48af-ff62-23fdc810ba96"
      },
      "outputs": [
        {
          "name": "stdout",
          "output_type": "stream",
          "text": [
            "JK                 0\n",
            "Usia Saat Ukur     0\n",
            "Berat              0\n",
            "Tinggi             0\n",
            "LiLA              13\n",
            "BB/TB              0\n",
            "dtype: int64\n",
            "(3552, 6)\n"
          ]
        }
      ],
      "source": [
        "print(data.isnull().sum())\n",
        "print(data.shape)"
      ]
    },
    {
      "cell_type": "code",
      "execution_count": null,
      "metadata": {
        "id": "Uj3zIZ5FNuby"
      },
      "outputs": [],
      "source": [
        "data.fillna(data.select_dtypes(include='number').mean(), inplace=True)"
      ]
    },
    {
      "cell_type": "markdown",
      "metadata": {
        "id": "pwAq9zDcyaQS"
      },
      "source": [
        "# 4. Normalisasi Umur dengan modul (regular expression (regex))\n",
        "\n"
      ]
    },
    {
      "cell_type": "code",
      "execution_count": null,
      "metadata": {
        "id": "pLfU3Dooy6_0"
      },
      "outputs": [],
      "source": [
        "import re\n",
        "\n",
        "# 1. Konversi kolom 'Usia Saat Ukur' menjadi format bulan\n",
        "def convert_to_months(age_str):\n",
        "    \"\"\"\n",
        "    Mengubah umur dalam format 'X tahun - Y bulan - Z hari' ke format bulan.\n",
        "    \"\"\"\n",
        "    # Inisialisasi nilai default\n",
        "    years, months, days = 0, 0, 0\n",
        "\n",
        "    # Menggunakan regex untuk menangkap angka pada string umur\n",
        "    year_match = re.search(r'(\\d+)\\s*[Tt]ahun', str(age_str))  # Menangkap tahun\n",
        "    month_match = re.search(r'(\\d+)\\s*[Bb]ulan', str(age_str))  # Menangkap bulan\n",
        "    day_match = re.search(r'(\\d+)\\s*[Hh]ari', str(age_str))  # Menangkap hari\n",
        "\n",
        "    # Menangkap hasil dari regex (jika ada)\n",
        "    if year_match:\n",
        "        years = int(year_match.group(1))\n",
        "    if month_match:\n",
        "        months = int(month_match.group(1))\n",
        "    if day_match:\n",
        "        days = int(day_match.group(1))\n",
        "\n",
        "    # Konversi umur menjadi bulan (dengan asumsi 1 bulan = 30 hari)\n",
        "    total_months = (years * 12) + months + (days / 30)\n",
        "\n",
        "    # Kembalikan hasil yang dibulatkan ke 2 desimal\n",
        "    return round(total_months, 2)\n",
        "\n",
        "data['Umur'] = data['Usia Saat Ukur'].apply(convert_to_months)\n",
        "data = data.drop('Usia Saat Ukur', axis=1)  # Drop kolom 'Usia Saat Ukur' asli"
      ]
    },
    {
      "cell_type": "markdown",
      "metadata": {
        "id": "ayHnvIaLy3I1"
      },
      "source": [
        "# 5. One-hot encoding untuk kolom 'JK' (Jenis Kelamin)"
      ]
    },
    {
      "cell_type": "code",
      "execution_count": null,
      "metadata": {
        "id": "XvX3M7ECzBes"
      },
      "outputs": [],
      "source": [
        "from sklearn.preprocessing import OneHotEncoder\n",
        "\n",
        "enc = OneHotEncoder(sparse_output=False, handle_unknown='ignore')\n",
        "encoded_jk = enc.fit_transform(data[['JK']])\n",
        "encoded_df = pd.DataFrame(encoded_jk, columns=enc.get_feature_names_out(['JK']))\n",
        "data = pd.concat([data, encoded_df], axis=1)\n",
        "data = data.drop('JK', axis=1)"
      ]
    },
    {
      "cell_type": "markdown",
      "metadata": {
        "id": "EvjnkMLnzKTy"
      },
      "source": [
        "# 6. Mapping kolom BB/TB"
      ]
    },
    {
      "cell_type": "code",
      "execution_count": null,
      "metadata": {
        "colab": {
          "base_uri": "https://localhost:8080/",
          "height": 272
        },
        "id": "NGD0U7ANC5M7",
        "outputId": "5fa6c704-aaa8-4434-b064-700c9e44d42c"
      },
      "outputs": [
        {
          "data": {
            "text/html": [
              "<div>\n",
              "<style scoped>\n",
              "    .dataframe tbody tr th:only-of-type {\n",
              "        vertical-align: middle;\n",
              "    }\n",
              "\n",
              "    .dataframe tbody tr th {\n",
              "        vertical-align: top;\n",
              "    }\n",
              "\n",
              "    .dataframe thead th {\n",
              "        text-align: right;\n",
              "    }\n",
              "</style>\n",
              "<table border=\"1\" class=\"dataframe\">\n",
              "  <thead>\n",
              "    <tr style=\"text-align: right;\">\n",
              "      <th></th>\n",
              "      <th>count</th>\n",
              "    </tr>\n",
              "    <tr>\n",
              "      <th>BB/TB</th>\n",
              "      <th></th>\n",
              "    </tr>\n",
              "  </thead>\n",
              "  <tbody>\n",
              "    <tr>\n",
              "      <th>Normal</th>\n",
              "      <td>2716</td>\n",
              "    </tr>\n",
              "    <tr>\n",
              "      <th>Beresiko Gizi Lebih</th>\n",
              "      <td>591</td>\n",
              "    </tr>\n",
              "    <tr>\n",
              "      <th>Gizi Lebih</th>\n",
              "      <td>155</td>\n",
              "    </tr>\n",
              "    <tr>\n",
              "      <th>Obesitas</th>\n",
              "      <td>51</td>\n",
              "    </tr>\n",
              "    <tr>\n",
              "      <th>Gizi Kurang</th>\n",
              "      <td>39</td>\n",
              "    </tr>\n",
              "  </tbody>\n",
              "</table>\n",
              "</div><br><label><b>dtype:</b> int64</label>"
            ],
            "text/plain": [
              "BB/TB\n",
              "Normal                 2716\n",
              "Beresiko Gizi Lebih     591\n",
              "Gizi Lebih              155\n",
              "Obesitas                 51\n",
              "Gizi Kurang              39\n",
              "Name: count, dtype: int64"
            ]
          },
          "execution_count": 9,
          "metadata": {},
          "output_type": "execute_result"
        }
      ],
      "source": [
        "data['BB/TB'].value_counts()"
      ]
    },
    {
      "cell_type": "code",
      "execution_count": null,
      "metadata": {
        "id": "E9NLC5ZUzRdC"
      },
      "outputs": [],
      "source": [
        "def map_bbtb(status):\n",
        "    mapping = {'Gizi Kurang': 0, 'Normal': 1, 'Beresiko Gizi Lebih': 2, 'Gizi Lebih': 3, 'Obesitas': 4}\n",
        "    return mapping.get(status, np.nan)\n",
        "\n",
        "data['Status'] = data['BB/TB'].apply(map_bbtb)\n",
        "\n",
        "# Drop kolom asli BB/TB setelah mapping\n",
        "data = data.drop('BB/TB', axis=1)"
      ]
    },
    {
      "cell_type": "markdown",
      "metadata": {
        "id": "7sGxWlQlzWDx"
      },
      "source": [
        "# 7. Tampilkan Hasil Praprocessing"
      ]
    },
    {
      "cell_type": "code",
      "execution_count": null,
      "metadata": {
        "colab": {
          "base_uri": "https://localhost:8080/"
        },
        "id": "ExRytpyDzVhx",
        "outputId": "5d6cf032-99bb-4741-87ce-bea0a2d824b6"
      },
      "outputs": [
        {
          "name": "stdout",
          "output_type": "stream",
          "text": [
            "\n",
            "Data setelah preprocessing:\n",
            "   Berat  Tinggi  LiLA  Umur  JK_L  JK_P  Status\n",
            "0   31.5   116.7  19.0  59.8     1     0       4\n",
            "1   24.9   106.5  17.0  59.2     0     1       4\n",
            "2   30.4   112.3  21.0  58.7     1     0       4\n",
            "3   23.7   102.8  16.0  58.3     0     1       4\n",
            "4   29.8   114.6  15.0  57.2     1     0       4\n",
            "5   22.1    99.7  19.0  56.4     0     1       4\n",
            "6   25.3   109.3  20.0  55.8     1     0       4\n",
            "7   28.6   114.2  14.0  55.3     1     0       4\n",
            "8   24.4   107.1  18.0  54.8     0     1       4\n",
            "9   26.2   105.8  15.0  54.1     1     0       4\n"
          ]
        }
      ],
      "source": [
        "print(\"\\nData setelah preprocessing:\")\n",
        "print(data.head(10))"
      ]
    },
    {
      "cell_type": "code",
      "execution_count": null,
      "metadata": {
        "colab": {
          "base_uri": "https://localhost:8080/"
        },
        "id": "SPjpv_7K-KNp",
        "outputId": "67c02a84-0b30-4e4a-a577-cba2762b2e4d"
      },
      "outputs": [
        {
          "name": "stdout",
          "output_type": "stream",
          "text": [
            "\n",
            "Data telah disimpan ke 'processed_AGUSTUS.csv'\n"
          ]
        }
      ],
      "source": [
        "# Simpan hasil\n",
        "data.to_csv('processed_AGUSTUS.csv', index=False)\n",
        "print(\"\\nData telah disimpan ke 'processed_AGUSTUS.csv'\")"
      ]
    },
    {
      "cell_type": "markdown",
      "metadata": {
        "id": "yJtHWbjPz4s6"
      },
      "source": [
        "# SVM"
      ]
    },
    {
      "cell_type": "code",
      "execution_count": null,
      "metadata": {
        "colab": {
          "base_uri": "https://localhost:8080/"
        },
        "id": "Y8qopNBQ3kZF",
        "outputId": "74026256-573b-41af-f42b-15cf1197a967"
      },
      "outputs": [
        {
          "name": "stdout",
          "output_type": "stream",
          "text": [
            "\n",
            "Classification Report:\n",
            "              precision    recall  f1-score   support\n",
            "\n",
            "           0       1.00      0.97      0.99        37\n",
            "           1       0.89      0.95      0.92        41\n",
            "           2       0.96      0.84      0.90        58\n",
            "           3       0.84      1.00      0.91        46\n",
            "           4       1.00      0.89      0.94        38\n",
            "\n",
            "    accuracy                           0.93       220\n",
            "   macro avg       0.94      0.93      0.93       220\n",
            "weighted avg       0.93      0.93      0.93       220\n",
            "\n",
            "\n",
            "Confusion Matrix:\n",
            "[[36  1  0  0  0]\n",
            " [ 0 39  2  0  0]\n",
            " [ 0  4 49  5  0]\n",
            " [ 0  0  0 46  0]\n",
            " [ 0  0  0  4 34]]\n"
          ]
        }
      ],
      "source": [
        "from sklearn.svm import SVC\n",
        "from sklearn.model_selection import train_test_split\n",
        "from sklearn.metrics import accuracy_score, classification_report, roc_auc_score, roc_curve, confusion_matrix\n",
        "import matplotlib.pyplot as plt\n",
        "\n",
        "# Pisahkan fitur (X) dan target (y)\n",
        "X = data.drop('Status', axis=1)  # Hapus kolom 'Status' dari fitur\n",
        "y = data['Status']\n",
        "\n",
        "# Bagi data menjadi training dan testing set\n",
        "X_train, X_test, y_train, y_test = train_test_split(X, y, test_size=0.3, random_state=42)\n",
        "\n",
        "# Inisialisasi dan latih model SVM\n",
        "svm_model = SVC(kernel='linear', probability=True)  # Pastikan probability=True untuk prediksi probabilitas\n",
        "svm_model.fit(X_train, y_train)\n",
        "\n",
        "# Prediksi pada data testing\n",
        "y_pred = svm_model.predict(X_test)\n",
        "\n",
        "# Evaluasi akurasi model\n",
        "print(\"\\nClassification Report:\")\n",
        "print(classification_report(y_test, y_pred))\n",
        "\n",
        "print(\"\\nConfusion Matrix:\")\n",
        "print(confusion_matrix(y_test, y_pred))"
      ]
    },
    {
      "cell_type": "markdown",
      "metadata": {
        "id": "UGV3o_rrPkzb"
      },
      "source": [
        "Pembagian Data Cross-Validation"
      ]
    },
    {
      "cell_type": "code",
      "execution_count": null,
      "metadata": {
        "colab": {
          "base_uri": "https://localhost:8080/"
        },
        "id": "9gDPpArzPkMC",
        "outputId": "c853a3ea-93fe-42ad-f14c-b7d4524e33de"
      },
      "outputs": [
        {
          "name": "stdout",
          "output_type": "stream",
          "text": [
            "Accuracy per Fold: [0.91967871 0.92957746 0.92152918 0.90744467 0.94366197]\n",
            "Rata - Rata Nilai Akurasi (SVM): 0.92 (+/- 0.01)\n",
            "Precision Macro per Fold: [0.90277574 0.90875311 0.87428637 0.89478657 0.94466887]\n",
            "Rata - Rata Nilai Precision Macro (SVM): 0.91 (+/- 0.02)\n",
            "Recall Macro per Fold: [0.81566674 0.8895668  0.72805225 0.78086765 0.89722825]\n",
            "Rata - Rata Nilai Recall Macro (SVM): 0.82 (+/- 0.06)\n",
            "F1 Macro per Fold: [0.84878532 0.89707344 0.7850972  0.82613531 0.91855028]\n",
            "Rata - Rata Nilai F1 Macro (SVM): 0.86 (+/- 0.05)\n"
          ]
        }
      ],
      "source": [
        "from sklearn.model_selection import cross_val_score\n",
        "from sklearn.svm import SVC\n",
        "\n",
        "# Inisialisasi SVM dengan kernel linear\n",
        "svm_model = SVC(kernel='linear')\n",
        "\n",
        "# Cross-validation untuk Akurasi\n",
        "scores_accuracy = cross_val_score(svm_model, X_train, y_train, cv=5, scoring='accuracy')\n",
        "print(\"Accuracy per Fold:\", scores_accuracy)\n",
        "print(\"Rata - Rata Nilai Akurasi (SVM): %0.2f (+/- %0.2f)\" % (scores_accuracy.mean(), scores_accuracy.std()))\n",
        "\n",
        "# Cross-validation untuk Precision Macro\n",
        "scores_precision = cross_val_score(svm_model, X_train, y_train, cv=5, scoring='precision_macro')\n",
        "print(\"Precision Macro per Fold:\", scores_precision)\n",
        "print(\"Rata - Rata Nilai Precision Macro (SVM): %0.2f (+/- %0.2f)\" % (scores_precision.mean(), scores_precision.std()))\n",
        "\n",
        "# Cross-validation untuk Recall Macro\n",
        "scores_recall = cross_val_score(svm_model, X_train, y_train, cv=5, scoring='recall_macro')\n",
        "print(\"Recall Macro per Fold:\", scores_recall)\n",
        "print(\"Rata - Rata Nilai Recall Macro (SVM): %0.2f (+/- %0.2f)\" % (scores_recall.mean(), scores_recall.std()))\n",
        "\n",
        "# Cross-validation untuk F1 Macro\n",
        "scores_f1 = cross_val_score(svm_model, X_train, y_train, cv=5, scoring='f1_macro')\n",
        "print(\"F1 Macro per Fold:\", scores_f1)\n",
        "print(\"Rata - Rata Nilai F1 Macro (SVM): %0.2f (+/- %0.2f)\" % (scores_f1.mean(), scores_f1.std()))"
      ]
    },
    {
      "cell_type": "markdown",
      "metadata": {
        "id": "J2HZbu7YDli9"
      },
      "source": [
        "# Decision Tree"
      ]
    },
    {
      "cell_type": "code",
      "execution_count": null,
      "metadata": {
        "colab": {
          "base_uri": "https://localhost:8080/"
        },
        "id": "oOj954tr4Fg5",
        "outputId": "29792eb4-fc06-4c7d-db7c-36aee09f1004"
      },
      "outputs": [
        {
          "name": "stdout",
          "output_type": "stream",
          "text": [
            "\n",
            "Classification Report:\n",
            "              precision    recall  f1-score   support\n",
            "\n",
            "           0       0.95      1.00      0.97        37\n",
            "           1       0.95      0.88      0.91        41\n",
            "           2       0.85      0.86      0.85        58\n",
            "           3       0.74      0.74      0.74        46\n",
            "           4       0.87      0.87      0.87        38\n",
            "\n",
            "    accuracy                           0.86       220\n",
            "   macro avg       0.87      0.87      0.87       220\n",
            "weighted avg       0.86      0.86      0.86       220\n",
            "\n",
            "\n",
            "Confusion Matrix:\n",
            "[[37  0  0  0  0]\n",
            " [ 2 36  2  1  0]\n",
            " [ 0  2 50  6  0]\n",
            " [ 0  0  7 34  5]\n",
            " [ 0  0  0  5 33]]\n"
          ]
        }
      ],
      "source": [
        "from sklearn.tree import DecisionTreeClassifier\n",
        "\n",
        "# Pisahkan fitur (X) dan target (y)\n",
        "X = data.drop('Status', axis=1)\n",
        "y = data['Status']\n",
        "\n",
        "# Bagi data menjadi data latih dan data uji\n",
        "X_train, X_test, y_train, y_test = train_test_split(X, y, test_size=0.3, random_state=42)\n",
        "\n",
        "# Inisialisasi dan latih model Decision Tree\n",
        "model = DecisionTreeClassifier(random_state=42) # You can adjust hyperparameters here\n",
        "model.fit(X_train, y_train)\n",
        "\n",
        "# Prediksi pada data uji\n",
        "y_pred = model.predict(X_test)\n",
        "\n",
        "# Evaluasi model\n",
        "print(\"\\nClassification Report:\")\n",
        "print(classification_report(y_test, y_pred))\n",
        "\n",
        "print(\"\\nConfusion Matrix:\")\n",
        "print(confusion_matrix(y_test, y_pred))"
      ]
    },
    {
      "cell_type": "markdown",
      "metadata": {
        "id": "aNzooAsGQSJv"
      },
      "source": [
        "Pembagian Data Cross-Validation"
      ]
    },
    {
      "cell_type": "code",
      "execution_count": null,
      "metadata": {
        "colab": {
          "base_uri": "https://localhost:8080/"
        },
        "id": "XxDjUHqoQRTT",
        "outputId": "e1b387f9-4c08-4c55-f513-46971abab1ab"
      },
      "outputs": [
        {
          "name": "stdout",
          "output_type": "stream",
          "text": [
            "Accuracy per Fold: [0.90160643 0.9054326  0.91549296 0.8832998  0.91146881]\n",
            "Rata - Rata Nilai Akurasi (DT): 0.90 (+/- 0.01)\n",
            "Precision Macro per Fold: [0.6771625  0.69728133 0.82169454 0.64019481 0.82391769]\n",
            "Rata - Rata Nilai Precision Macro (DT): 0.73 (+/- 0.08)\n",
            "Recall Macro per Fold: [0.60861848 0.73186177 0.68328208 0.61641979 0.80653184]\n",
            "Rata - Rata Nilai Recall Macro (DT): 0.69 (+/- 0.07)\n",
            "F1 Macro per Fold: [0.60966748 0.65476157 0.73365429 0.62019517 0.82405565]\n",
            "Rata - Rata Nilai F1 Macro (DT): 0.69 (+/- 0.08)\n"
          ]
        }
      ],
      "source": [
        "from sklearn.tree import DecisionTreeClassifier\n",
        "from sklearn.model_selection import cross_val_score\n",
        "\n",
        "# Pastikan data X_train dan y_train sudah diinisialisasi\n",
        "# Decision Tree Classifier\n",
        "DT = DecisionTreeClassifier()\n",
        "\n",
        "# Menghitung Accuracy\n",
        "scores_accuracy = cross_val_score(DT, X_train, y_train, cv=5, scoring='accuracy')\n",
        "print(\"Accuracy per Fold:\", scores_accuracy)\n",
        "print(\"Rata - Rata Nilai Akurasi (DT): %0.2f (+/- %0.2f)\" % (scores_accuracy.mean(), scores_accuracy.std()))\n",
        "\n",
        "# Menghitung Precision Macro\n",
        "scores_precision = cross_val_score(DT, X_train, y_train, cv=5, scoring='precision_macro')\n",
        "print(\"Precision Macro per Fold:\", scores_precision)\n",
        "print(\"Rata - Rata Nilai Precision Macro (DT): %0.2f (+/- %0.2f)\" % (scores_precision.mean(), scores_precision.std()))\n",
        "\n",
        "# Menghitung Recall Macro\n",
        "scores_recall = cross_val_score(DT, X_train, y_train, cv=5, scoring='recall_macro')\n",
        "print(\"Recall Macro per Fold:\", scores_recall)\n",
        "print(\"Rata - Rata Nilai Recall Macro (DT): %0.2f (+/- %0.2f)\" % (scores_recall.mean(), scores_recall.std()))\n",
        "\n",
        "# Menghitung F1 Macro\n",
        "scores_f1 = cross_val_score(DT, X_train, y_train, cv=5, scoring='f1_macro')\n",
        "print(\"F1 Macro per Fold:\", scores_f1)\n",
        "print(\"Rata - Rata Nilai F1 Macro (DT): %0.2f (+/- %0.2f)\" % (scores_f1.mean(), scores_f1.std()))"
      ]
    },
    {
      "cell_type": "markdown",
      "metadata": {
        "id": "jk1jNkwgMszR"
      },
      "source": [
        "# ROC AUC"
      ]
    },
    {
      "cell_type": "code",
      "execution_count": null,
      "metadata": {
        "colab": {
          "base_uri": "https://localhost:8080/",
          "height": 718
        },
        "id": "KnKLfzLgKNcO",
        "outputId": "cd783c2d-f01c-4d8e-826d-5f47234b2d7a"
      },
      "outputs": [
        {
          "data": {
            "image/png": "[encoded data removed]",
            "text/plain": [
              "<Figure size 1200x800 with 1 Axes>"
            ]
          },
          "metadata": {},
          "output_type": "display_data"
        }
      ],
      "source": [
        "import numpy as np\n",
        "import matplotlib.pyplot as plt\n",
        "from sklearn.metrics import roc_curve, auc\n",
        "from sklearn.model_selection import train_test_split\n",
        "from sklearn.naive_bayes import GaussianNB\n",
        "from sklearn.tree import DecisionTreeClassifier\n",
        "from sklearn.svm import SVC\n",
        "from sklearn.neighbors import KNeighborsClassifier\n",
        "from sklearn.ensemble import RandomForestClassifier\n",
        "from sklearn.preprocessing import label_binarize\n",
        "\n",
        "# Split the dataset\n",
        "X_train, X_test, y_train, y_test = train_test_split(X, y, test_size=0.3, random_state=42)\n",
        "\n",
        "# Initialize your models\n",
        "models = {\n",
        "    \"Decision Tree\": DecisionTreeClassifier(),\n",
        "    \"SVM\": SVC(probability=True),\n",
        "}\n",
        "\n",
        "# Fit the models and get predictions\n",
        "predictions = {}\n",
        "for model_name, model in models.items():\n",
        "    model.fit(X_train, y_train)  # Fit on the original labels\n",
        "    # Store the probability predictions for the test set\n",
        "    predictions[model_name] = model.predict_proba(X_test)\n",
        "\n",
        "# Binarize the output for ROC AUC calculation\n",
        "unique_classes = np.unique(y)  # Get unique classes from original y\n",
        "ytest_bin = label_binarize(y_test, classes=unique_classes)  # Use unique classes\n",
        "n_classes = ytest_bin.shape[1]  # Number of classes after binarization\n",
        "\n",
        "# Set up the plot for all models\n",
        "plt.figure(figsize=(12, 8))\n",
        "\n",
        "# Calculate and plot ROC curve for each model\n",
        "for model_name, preds in predictions.items():\n",
        "    # Calculate ROC curve and AUC for each model\n",
        "    fpr, tpr, _ = roc_curve(ytest_bin.ravel(), preds.ravel())\n",
        "    roc_auc = auc(fpr, tpr)\n",
        "\n",
        "    # Plot ROC curve\n",
        "    plt.plot(fpr, tpr, lw=2, label=f'{model_name} (AUC = {roc_auc:.4f})')\n",
        "\n",
        "# Plotting diagonal line for random chance\n",
        "plt.plot([0, 1], [0, 1], 'k--', lw=2)\n",
        "\n",
        "# Adding titles and labels\n",
        "plt.title('ROC Curves for Data Balance')\n",
        "plt.xlabel('False Positive Rate')\n",
        "plt.ylabel('True Positive Rate')\n",
        "plt.xlim([0.0, 1.0])\n",
        "plt.ylim([0.0, 1.05])\n",
        "plt.legend(loc='lower right')\n",
        "plt.grid()\n",
        "\n",
        "# Show the combined plot\n",
        "plt.show()"
      ]
    },
    {
      "cell_type": "markdown",
      "metadata": {
        "id": "suKaD_4GR6E_"
      },
      "source": [
        "# Deploy Stramlit"
      ]
    },
    {
      "cell_type": "markdown",
      "metadata": {
        "id": "-YYQMELeUDH5"
      },
      "source": [
        "Menyimpan Model dalam Bentuk Pickle"
      ]
    },
    {
      "cell_type": "code",
      "execution_count": null,
      "metadata": {
        "id": "-mRryzlxSHJe"
      },
      "outputs": [],
      "source": [
        "# Mem-pickle-kan model\n",
        "\n",
        "import pickle\n",
        "\n",
        "# Nama pickle - classifier.pkl\n",
        "pickle_out = open(\"classifier.pkl\", \"wb\")\n",
        "\n",
        "# Nama model - classifier\n",
        "pickle.dump(svm_model,  pickle_out)\n",
        "pickle_out.close()"
      ]
    },
    {
      "cell_type": "markdown",
      "metadata": {
        "id": "Fp4eOTJeUAyx"
      },
      "source": [
        "Mendeploy Model dengan Mempergunakan Streamlit"
      ]
    },
    {
      "cell_type": "code",
      "execution_count": null,
      "metadata": {
        "colab": {
          "base_uri": "https://localhost:8080/"
        },
        "id": "N5hPHECDVMJt",
        "outputId": "2d036ef3-e580-45d2-a73e-cfeee23bbc75"
      },
      "outputs": [
        {
          "name": "stdout",
          "output_type": "stream",
          "text": [
            "Writing app.py\n"
          ]
        }
      ],
      "source": [
        "%%writefile app.py\n",
        "import streamlit as st\n",
        "import pandas as pd\n",
        "import pickle\n",
        "\n",
        "# Load the trained model\n",
        "pickle_in = open('classifier.pkl', 'rb')\n",
        "classifier = pickle.load(pickle_in)\n",
        "\n",
        "# Function to preprocess input data\n",
        "def preprocess_input(jk, umur, berat, tinggi, lila):\n",
        "    \"\"\"\n",
        "    Preprocess user input to match the dataset structure with one-hot encoded gender (JK_L and JK_P).\n",
        "    \"\"\"\n",
        "    data = pd.DataFrame({\n",
        "        'Berat': [berat],\n",
        "        'Tinggi': [tinggi],\n",
        "        'LiLA': [lila],\n",
        "        'Umur': [umur],  # Age in months\n",
        "        'JK_L': [1 if jk == \"L\" else 0],  # JK_L is 1 if gender is Laki-Laki\n",
        "        'JK_P': [1 if jk == \"P\" else 0],  # JK_P is 1 if gender is Perempuan\n",
        "    })\n",
        "    return data\n",
        "\n",
        "# Streamlit app\n",
        "st.set_page_config(\n",
        "    page_title=\"Prediksi Status Gizi Balita\",\n",
        "    page_icon=\"👶\",\n",
        "    layout=\"centered\",\n",
        "    initial_sidebar_state=\"expanded\",\n",
        ")\n",
        "\n",
        "# Custom CSS for UI Styling\n",
        "st.markdown(\"\"\"\n",
        "    <style>\n",
        "    body {\n",
        "        background-color: #f9f9f9;\n",
        "        font-family: \"Arial\", sans-serif;\n",
        "    }\n",
        "    .title {\n",
        "        font-size: 36px;\n",
        "        font-weight: bold;\n",
        "        color: #4caf50;\n",
        "        text-align: center;\n",
        "        margin-top: -20px;\n",
        "        margin-bottom: 20px;\n",
        "    }\n",
        "    .sidebar .sidebar-content {\n",
        "        background: #fffbe6;\n",
        "    }\n",
        "    .main-button {\n",
        "        background-color: #4caf50;\n",
        "        color: white;\n",
        "        font-size: 16px;\n",
        "        padding: 10px 15px;\n",
        "        border-radius: 8px;\n",
        "        border: none;\n",
        "    }\n",
        "    .main-button:hover {\n",
        "        background-color: #45a049;\n",
        "    }\n",
        "    </style>\n",
        "\"\"\", unsafe_allow_html=True)\n",
        "\n",
        "# Page Title\n",
        "st.markdown('<div class=\"title\">Prediksi Status Gizi Balita</div>', unsafe_allow_html=True)\n",
        "\n",
        "# App Subtitle\n",
        "st.subheader(\"Streamlit Gizi Balita Classifier ML SVM\")\n",
        "\n",
        "# Input fields with better formatting\n",
        "st.markdown(\"### Masukkan Data Balita:\")\n",
        "berat = st.number_input(\"Berat Badan (kg):\", min_value=0.0, value=0.0, step=0.1)\n",
        "tinggi = st.number_input(\"Tinggi Badan (cm):\", min_value=0.0, value=0.0, step=0.1)\n",
        "lila = st.number_input(\"Lingkar Lengan Atas (cm):\", min_value=0.0, value=0.0, step=0.1)\n",
        "umur = st.number_input(\"Umur (0-60 bulan):\", min_value=0.0, value=0.0, step=0.1)  # Numeric input for age in months\n",
        "jk = st.selectbox(\"Jenis Kelamin:\", [\"L\", \"P\"], help=\"Pilih jenis kelamin balita (L = Laki-Laki, P = Perempuan)\")\n",
        "\n",
        "# Prediction button with custom style\n",
        "if st.button(\"Prediksi\", help=\"Klik tombol ini untuk melihat hasil prediksi status gizi.\"):\n",
        "    try:\n",
        "        # Preprocess input\n",
        "        input_data = preprocess_input(jk, umur, berat, tinggi, lila)\n",
        "\n",
        "        # Ensure all required features are present and numeric\n",
        "        if input_data.isnull().values.any() or (input_data < 0).any(axis=None):\n",
        "            raise ValueError(\"Pastikan semua input diisi dengan nilai valid (positif).\")\n",
        "\n",
        "        # Predict the class (status gizi)\n",
        "        prediction = classifier.predict(input_data)[0]\n",
        "\n",
        "        # Convert prediction to human-readable label\n",
        "        label_mapping = {\n",
        "            0: '🥄 Gizi Kurang',\n",
        "            1: '🥦 Normal',\n",
        "            2: '🍔 Beresiko Gizi Lebih',\n",
        "            3: '🍩 Gizi Lebih',\n",
        "            4: '🎂 Obesitas'\n",
        "        }\n",
        "\n",
        "        # Display result\n",
        "        st.success(f\"Prediksi Status Gizi: {label_mapping[prediction]}\")\n",
        "        st.balloons()\n",
        "\n",
        "    except ValueError as e:\n",
        "        st.error(f\"Error: {e}. Periksa input Anda.\")\n",
        "    except Exception as e:\n",
        "        st.error(f\"Terjadi kesalahan tak terduga: {e}\")"
      ]
    },
    {
      "cell_type": "code",
      "execution_count": null,
      "metadata": {
        "colab": {
          "base_uri": "https://localhost:8080/"
        },
        "id": "Dnrr4KxUUKuL",
        "outputId": "98481177-432d-4a0f-d93c-c2e2b2709234"
      },
      "outputs": [
        {
          "name": "stdout",
          "output_type": "stream",
          "text": [
            "\u001b[2K     \u001b[90m━━━━━━━━━━━━━━━━━━━━━━━━━━━━━━━━━━━━━━━━\u001b[0m \u001b[32m44.3/44.3 kB\u001b[0m \u001b[31m1.7 MB/s\u001b[0m eta \u001b[36m0:00:00\u001b[0m\n",
            "\u001b[2K   \u001b[90m━━━━━━━━━━━━━━━━━━━━━━━━━━━━━━━━━━━━━━━━\u001b[0m \u001b[32m9.1/9.1 MB\u001b[0m \u001b[31m47.9 MB/s\u001b[0m eta \u001b[36m0:00:00\u001b[0m\n",
            "\u001b[2K   \u001b[90m━━━━━━━━━━━━━━━━━━━━━━━━━━━━━━━━━━━━━━━━\u001b[0m \u001b[32m6.9/6.9 MB\u001b[0m \u001b[31m63.2 MB/s\u001b[0m eta \u001b[36m0:00:00\u001b[0m\n",
            "\u001b[2K   \u001b[90m━━━━━━━━━━━━━━━━━━━━━━━━━━━━━━━━━━━━━━━━\u001b[0m \u001b[32m79.1/79.1 kB\u001b[0m \u001b[31m4.4 MB/s\u001b[0m eta \u001b[36m0:00:00\u001b[0m\n",
            "\u001b[?25h"
          ]
        }
      ],
      "source": [
        "!pip install streamlit -q"
      ]
    },
    {
      "cell_type": "code",
      "execution_count": null,
      "metadata": {
        "colab": {
          "base_uri": "https://localhost:8080/"
        },
        "id": "WP0-SVvwULgP",
        "outputId": "daa86117-1c57-4e30-f917-0fe2d98633c0"
      },
      "outputs": [
        {
          "name": "stdout",
          "output_type": "stream",
          "text": [
            "35.196.106.54\n"
          ]
        }
      ],
      "source": [
        "!wget -q -O - ipv4.icanhazip.com"
      ]
    },
    {
      "cell_type": "code",
      "execution_count": null,
      "metadata": {
        "colab": {
          "background_save": true,
          "base_uri": "https://localhost:8080/"
        },
        "id": "61GRvhGUUN6J",
        "outputId": "169b2019-8553-4fc0-9a2d-f4e6626d1560"
      },
      "outputs": [
        {
          "name": "stdout",
          "output_type": "stream",
          "text": [
            "\u001b[1G\u001b[0K⠙\u001b[1G\u001b[0K⠹\u001b[1G\u001b[0K⠸\u001b[1G\u001b[0K⠼\u001b[1G\u001b[0K⠴\u001b[1G\n",
            "Collecting usage statistics. To deactivate, set browser.gatherUsageStats to false.\n",
            "\u001b[0m\n",
            "\u001b[0K⠦\u001b[1G\u001b[0K⠧\u001b[1G\u001b[0K⠇\u001b[1G\u001b[0K⠏\u001b[1G\u001b[0K⠋\u001b[1G\u001b[0K⠙\u001b[1G\u001b[0K⠹\u001b[1G\u001b[0K⠸\u001b[1G\u001b[0K⠼\u001b[1G\u001b[0K⠴\u001b[1G\u001b[0K⠦\u001b[1G\u001b[0K\u001b[1G\u001b[0JNeed to install the following packages:\n",
            "localtunnel@2.0.2\n",
            "Ok to proceed? (y) \u001b[20G\u001b[0m\n",
            "\u001b[34m\u001b[1m  You can now view your Streamlit app in your browser.\u001b[0m\n",
            "\u001b[0m\n",
            "\u001b[34m  Local URL: \u001b[0m\u001b[1mhttp://localhost:8501\u001b[0m\n",
            "\u001b[34m  Network URL: \u001b[0m\u001b[1mhttp://172.28.0.12:8501\u001b[0m\n",
            "\u001b[34m  External URL: \u001b[0m\u001b[1mhttp://35.196.106.54:8501\u001b[0m\n",
            "\u001b[0m\n",
            "y\n",
            "\n",
            "\u001b[1G\u001b[0K⠙\u001b[1G\u001b[0K⠹\u001b[1G\u001b[0K⠸\u001b[1G\u001b[0K⠼\u001b[1G\u001b[0K⠴\u001b[1G\u001b[0K⠦\u001b[1G\u001b[0K⠧\u001b[1G\u001b[0K⠇\u001b[1G\u001b[0K⠏\u001b[1G\u001b[0K⠋\u001b[1G\u001b[0K⠙\u001b[1G\u001b[0K⠹\u001b[1G\u001b[0K⠸\u001b[1G\u001b[0K⠼\u001b[1G\u001b[0K⠴\u001b[1G\u001b[0K⠦\u001b[1G\u001b[0K⠧\u001b[1G\u001b[0K⠇\u001b[1G\u001b[0K⠏\u001b[1G\u001b[0K⠋\u001b[1G\u001b[0K⠙\u001b[1G\u001b[0K⠹\u001b[1G\u001b[0K⠸\u001b[1G\u001b[0K⠼\u001b[1G\u001b[0K⠴\u001b[1G\u001b[0K⠦\u001b[1G\u001b[0K⠧\u001b[1G\u001b[0K⠇\u001b[1G\u001b[0K⠏\u001b[1G\u001b[0K⠋\u001b[1G\u001b[0K⠙\u001b[1G\u001b[0K⠹\u001b[1G\u001b[0K⠸\u001b[1G\u001b[0K⠼\u001b[1G\u001b[0K⠴\u001b[1G\u001b[0K⠦\u001b[1G\u001b[0K⠧\u001b[1G\u001b[0K⠇\u001b[1G\u001b[0K⠏\u001b[1G\u001b[0K⠋\u001b[1G\u001b[0Kyour url is: https://lovely-badgers-mate.loca.lt\n"
          ]
        }
      ],
      "source": [
        "!streamlit run app.py & npx localtunnel --port 8501"
      ]
    }
  ],
  "metadata": {
    "colab": {
      "provenance": []
    },
    "kernelspec": {
      "display_name": "Python 3",
      "name": "python3"
    },
    "language_info": {
      "name": "python"
    }
  },
  "nbformat": 4,
  "nbformat_minor": 0
}